{
 "cells": [
  {
   "cell_type": "code",
   "execution_count": 535,
   "metadata": {},
   "outputs": [],
   "source": [
    "import numpy as np\n",
    "import pandas as pd\n",
    "import scipy\n",
    "import matplotlib.pyplot as plt\n",
    "import seaborn as sns\n",
    "%matplotlib inline\n",
    "sns.set_style('darkgrid')\n",
    "\n",
    "from sklearn.cluster import KMeans\n",
    "from sklearn.preprocessing import normalize\n",
    "from sklearn.model_selection import train_test_split\n",
    "from sklearn.decomposition import PCA\n",
    "\n",
    "import itertools\n",
    "from sklearn import metrics\n",
    "from sklearn.metrics import pairwise_distances\n",
    "\n",
    "from sklearn.cluster import AffinityPropagation\n",
    "from sklearn.cluster import KMeans\n",
    "from sklearn.cluster import MeanShift, estimate_bandwidth\n",
    "from sklearn.cluster import SpectralClustering"
   ]
  },
  {
   "cell_type": "code",
   "execution_count": 607,
   "metadata": {},
   "outputs": [],
   "source": [
    "boston = pd.read_csv(\"https://raw.githubusercontent.com/llimllib/bostonmarathon/master/results/2014/results.csv\", error_bad_lines=False)"
   ]
  },
  {
   "cell_type": "code",
   "execution_count": 204,
   "metadata": {},
   "outputs": [
    {
     "data": {
      "text/html": [
       "<div>\n",
       "<style scoped>\n",
       "    .dataframe tbody tr th:only-of-type {\n",
       "        vertical-align: middle;\n",
       "    }\n",
       "\n",
       "    .dataframe tbody tr th {\n",
       "        vertical-align: top;\n",
       "    }\n",
       "\n",
       "    .dataframe thead th {\n",
       "        text-align: right;\n",
       "    }\n",
       "</style>\n",
       "<table border=\"1\" class=\"dataframe\">\n",
       "  <thead>\n",
       "    <tr style=\"text-align: right;\">\n",
       "      <th></th>\n",
       "      <th>10k</th>\n",
       "      <th>name</th>\n",
       "      <th>division</th>\n",
       "      <th>25k</th>\n",
       "      <th>gender</th>\n",
       "      <th>age</th>\n",
       "      <th>official</th>\n",
       "      <th>bib</th>\n",
       "      <th>genderdiv</th>\n",
       "      <th>ctz</th>\n",
       "      <th>...</th>\n",
       "      <th>overall</th>\n",
       "      <th>pace</th>\n",
       "      <th>state</th>\n",
       "      <th>30k</th>\n",
       "      <th>5k</th>\n",
       "      <th>half</th>\n",
       "      <th>20k</th>\n",
       "      <th>country</th>\n",
       "      <th>city</th>\n",
       "      <th>40k</th>\n",
       "    </tr>\n",
       "  </thead>\n",
       "  <tbody>\n",
       "    <tr>\n",
       "      <th>0</th>\n",
       "      <td>17.37</td>\n",
       "      <td>Yamamoto, Hiroyuki</td>\n",
       "      <td>8</td>\n",
       "      <td>47.67</td>\n",
       "      <td>M</td>\n",
       "      <td>47</td>\n",
       "      <td>85.25</td>\n",
       "      <td>W1</td>\n",
       "      <td>8</td>\n",
       "      <td>NaN</td>\n",
       "      <td>...</td>\n",
       "      <td>8</td>\n",
       "      <td>3.27</td>\n",
       "      <td>NaN</td>\n",
       "      <td>59.18</td>\n",
       "      <td>8.02</td>\n",
       "      <td>39.72</td>\n",
       "      <td>37.65</td>\n",
       "      <td>JPN</td>\n",
       "      <td>Fukuoka</td>\n",
       "      <td>80.43</td>\n",
       "    </tr>\n",
       "    <tr>\n",
       "      <th>1</th>\n",
       "      <td>32.58</td>\n",
       "      <td>Jeptoo, Rita</td>\n",
       "      <td>1</td>\n",
       "      <td>82.43</td>\n",
       "      <td>F</td>\n",
       "      <td>33</td>\n",
       "      <td>138.95</td>\n",
       "      <td>F1</td>\n",
       "      <td>1</td>\n",
       "      <td>NaN</td>\n",
       "      <td>...</td>\n",
       "      <td>21</td>\n",
       "      <td>5.30</td>\n",
       "      <td>NaN</td>\n",
       "      <td>99.33</td>\n",
       "      <td>16.22</td>\n",
       "      <td>69.47</td>\n",
       "      <td>65.83</td>\n",
       "      <td>KEN</td>\n",
       "      <td>Eldoret</td>\n",
       "      <td>132.10</td>\n",
       "    </tr>\n",
       "    <tr>\n",
       "      <th>2</th>\n",
       "      <td>16.62</td>\n",
       "      <td>Van Dyk, Ernst F.</td>\n",
       "      <td>1</td>\n",
       "      <td>45.80</td>\n",
       "      <td>M</td>\n",
       "      <td>41</td>\n",
       "      <td>80.60</td>\n",
       "      <td>W2</td>\n",
       "      <td>1</td>\n",
       "      <td>NaN</td>\n",
       "      <td>...</td>\n",
       "      <td>1</td>\n",
       "      <td>3.08</td>\n",
       "      <td>NaN</td>\n",
       "      <td>56.45</td>\n",
       "      <td>7.75</td>\n",
       "      <td>38.03</td>\n",
       "      <td>36.10</td>\n",
       "      <td>RSA</td>\n",
       "      <td>Paarl</td>\n",
       "      <td>76.10</td>\n",
       "    </tr>\n",
       "    <tr>\n",
       "      <th>3</th>\n",
       "      <td>32.57</td>\n",
       "      <td>Dibaba, Mare</td>\n",
       "      <td>3</td>\n",
       "      <td>82.43</td>\n",
       "      <td>F</td>\n",
       "      <td>24</td>\n",
       "      <td>140.58</td>\n",
       "      <td>F2</td>\n",
       "      <td>3</td>\n",
       "      <td>NaN</td>\n",
       "      <td>...</td>\n",
       "      <td>27</td>\n",
       "      <td>5.37</td>\n",
       "      <td>NaN</td>\n",
       "      <td>99.33</td>\n",
       "      <td>16.20</td>\n",
       "      <td>69.47</td>\n",
       "      <td>65.83</td>\n",
       "      <td>ETH</td>\n",
       "      <td>Shoa</td>\n",
       "      <td>132.95</td>\n",
       "    </tr>\n",
       "    <tr>\n",
       "      <th>4</th>\n",
       "      <td>17.12</td>\n",
       "      <td>Hokinoue, Kota</td>\n",
       "      <td>2</td>\n",
       "      <td>46.37</td>\n",
       "      <td>M</td>\n",
       "      <td>40</td>\n",
       "      <td>81.23</td>\n",
       "      <td>W3</td>\n",
       "      <td>2</td>\n",
       "      <td>NaN</td>\n",
       "      <td>...</td>\n",
       "      <td>2</td>\n",
       "      <td>3.10</td>\n",
       "      <td>NaN</td>\n",
       "      <td>57.03</td>\n",
       "      <td>8.02</td>\n",
       "      <td>38.60</td>\n",
       "      <td>36.58</td>\n",
       "      <td>JPN</td>\n",
       "      <td>Nogata Fukuoka</td>\n",
       "      <td>76.72</td>\n",
       "    </tr>\n",
       "  </tbody>\n",
       "</table>\n",
       "<p>5 rows × 21 columns</p>\n",
       "</div>"
      ],
      "text/plain": [
       "     10k                name  division    25k gender  age  official bib  \\\n",
       "0  17.37  Yamamoto, Hiroyuki         8  47.67      M   47     85.25  W1   \n",
       "1  32.58        Jeptoo, Rita         1  82.43      F   33    138.95  F1   \n",
       "2  16.62   Van Dyk, Ernst F.         1  45.80      M   41     80.60  W2   \n",
       "3  32.57        Dibaba, Mare         3  82.43      F   24    140.58  F2   \n",
       "4  17.12      Hokinoue, Kota         2  46.37      M   40     81.23  W3   \n",
       "\n",
       "   genderdiv  ctz  ... overall  pace  state    30k     5k   half    20k  \\\n",
       "0          8  NaN  ...       8  3.27    NaN  59.18   8.02  39.72  37.65   \n",
       "1          1  NaN  ...      21  5.30    NaN  99.33  16.22  69.47  65.83   \n",
       "2          1  NaN  ...       1  3.08    NaN  56.45   7.75  38.03  36.10   \n",
       "3          3  NaN  ...      27  5.37    NaN  99.33  16.20  69.47  65.83   \n",
       "4          2  NaN  ...       2  3.10    NaN  57.03   8.02  38.60  36.58   \n",
       "\n",
       "  country            city     40k  \n",
       "0     JPN         Fukuoka   80.43  \n",
       "1     KEN         Eldoret  132.10  \n",
       "2     RSA           Paarl   76.10  \n",
       "3     ETH            Shoa  132.95  \n",
       "4     JPN  Nogata Fukuoka   76.72  \n",
       "\n",
       "[5 rows x 21 columns]"
      ]
     },
     "execution_count": 204,
     "metadata": {},
     "output_type": "execute_result"
    }
   ],
   "source": [
    "boston.head()"
   ]
  },
  {
   "cell_type": "code",
   "execution_count": 537,
   "metadata": {},
   "outputs": [
    {
     "name": "stdout",
     "output_type": "stream",
     "text": [
      "<class 'pandas.core.frame.DataFrame'>\n",
      "RangeIndex: 31984 entries, 0 to 31983\n",
      "Data columns (total 21 columns):\n",
      "10k          31984 non-null object\n",
      "name         31984 non-null object\n",
      "division     31984 non-null int64\n",
      "25k          31984 non-null object\n",
      "gender       31984 non-null object\n",
      "age          31984 non-null int64\n",
      "official     31984 non-null float64\n",
      "bib          31984 non-null object\n",
      "genderdiv    31984 non-null int64\n",
      "ctz          1244 non-null object\n",
      "35k          31984 non-null object\n",
      "overall      31984 non-null int64\n",
      "pace         31984 non-null float64\n",
      "state        29408 non-null object\n",
      "30k          31984 non-null object\n",
      "5k           31984 non-null object\n",
      "half         31984 non-null object\n",
      "20k          31984 non-null object\n",
      "country      31984 non-null object\n",
      "city         31983 non-null object\n",
      "40k          31984 non-null object\n",
      "dtypes: float64(2), int64(4), object(15)\n",
      "memory usage: 5.1+ MB\n"
     ]
    }
   ],
   "source": [
    "boston.info()"
   ]
  },
  {
   "cell_type": "code",
   "execution_count": 539,
   "metadata": {},
   "outputs": [
    {
     "data": {
      "text/html": [
       "<div>\n",
       "<style scoped>\n",
       "    .dataframe tbody tr th:only-of-type {\n",
       "        vertical-align: middle;\n",
       "    }\n",
       "\n",
       "    .dataframe tbody tr th {\n",
       "        vertical-align: top;\n",
       "    }\n",
       "\n",
       "    .dataframe thead th {\n",
       "        text-align: right;\n",
       "    }\n",
       "</style>\n",
       "<table border=\"1\" class=\"dataframe\">\n",
       "  <thead>\n",
       "    <tr style=\"text-align: right;\">\n",
       "      <th></th>\n",
       "      <th>10k</th>\n",
       "      <th>name</th>\n",
       "      <th>division</th>\n",
       "      <th>25k</th>\n",
       "      <th>gender</th>\n",
       "      <th>age</th>\n",
       "      <th>official</th>\n",
       "      <th>bib</th>\n",
       "      <th>genderdiv</th>\n",
       "      <th>ctz</th>\n",
       "      <th>...</th>\n",
       "      <th>overall</th>\n",
       "      <th>pace</th>\n",
       "      <th>state</th>\n",
       "      <th>30k</th>\n",
       "      <th>5k</th>\n",
       "      <th>half</th>\n",
       "      <th>20k</th>\n",
       "      <th>country</th>\n",
       "      <th>city</th>\n",
       "      <th>40k</th>\n",
       "    </tr>\n",
       "  </thead>\n",
       "  <tbody>\n",
       "    <tr>\n",
       "      <th>836</th>\n",
       "      <td>38.28</td>\n",
       "      <td>Moosbrugger, Michael</td>\n",
       "      <td>2701</td>\n",
       "      <td>100.75</td>\n",
       "      <td>M</td>\n",
       "      <td>32</td>\n",
       "      <td>194.87</td>\n",
       "      <td>891</td>\n",
       "      <td>4672</td>\n",
       "      <td>NaN</td>\n",
       "      <td>...</td>\n",
       "      <td>5252</td>\n",
       "      <td>7.43</td>\n",
       "      <td>NaN</td>\n",
       "      <td>124.67</td>\n",
       "      <td>-</td>\n",
       "      <td>83.70</td>\n",
       "      <td>79.12</td>\n",
       "      <td>AUT</td>\n",
       "      <td>Dornbirn</td>\n",
       "      <td>181.07</td>\n",
       "    </tr>\n",
       "    <tr>\n",
       "      <th>1333</th>\n",
       "      <td>44.55</td>\n",
       "      <td>Thoman, Dave</td>\n",
       "      <td>2692</td>\n",
       "      <td>112.18</td>\n",
       "      <td>M</td>\n",
       "      <td>28</td>\n",
       "      <td>194.68</td>\n",
       "      <td>1487</td>\n",
       "      <td>4633</td>\n",
       "      <td>NaN</td>\n",
       "      <td>...</td>\n",
       "      <td>5206</td>\n",
       "      <td>7.43</td>\n",
       "      <td>NY</td>\n",
       "      <td>136.08</td>\n",
       "      <td>-</td>\n",
       "      <td>94.65</td>\n",
       "      <td>89.68</td>\n",
       "      <td>USA</td>\n",
       "      <td>Albany</td>\n",
       "      <td>184.47</td>\n",
       "    </tr>\n",
       "    <tr>\n",
       "      <th>1682</th>\n",
       "      <td>44.07</td>\n",
       "      <td>Boden, Jeffrey G</td>\n",
       "      <td>3219</td>\n",
       "      <td>-</td>\n",
       "      <td>M</td>\n",
       "      <td>38</td>\n",
       "      <td>206.72</td>\n",
       "      <td>1905</td>\n",
       "      <td>6647</td>\n",
       "      <td>NaN</td>\n",
       "      <td>...</td>\n",
       "      <td>8284</td>\n",
       "      <td>7.90</td>\n",
       "      <td>FL</td>\n",
       "      <td>140.97</td>\n",
       "      <td>21.47</td>\n",
       "      <td>96.22</td>\n",
       "      <td>91.02</td>\n",
       "      <td>USA</td>\n",
       "      <td>Coral Gables</td>\n",
       "      <td>195.22</td>\n",
       "    </tr>\n",
       "    <tr>\n",
       "      <th>2968</th>\n",
       "      <td>42.37</td>\n",
       "      <td>Koeppe, Torsten</td>\n",
       "      <td>216</td>\n",
       "      <td>106.72</td>\n",
       "      <td>M</td>\n",
       "      <td>49</td>\n",
       "      <td>182.07</td>\n",
       "      <td>3385</td>\n",
       "      <td>2545</td>\n",
       "      <td>GER</td>\n",
       "      <td>...</td>\n",
       "      <td>2700</td>\n",
       "      <td>6.95</td>\n",
       "      <td>MA</td>\n",
       "      <td>-</td>\n",
       "      <td>21.23</td>\n",
       "      <td>89.57</td>\n",
       "      <td>84.90</td>\n",
       "      <td>USA</td>\n",
       "      <td>Andover</td>\n",
       "      <td>171.75</td>\n",
       "    </tr>\n",
       "    <tr>\n",
       "      <th>3189</th>\n",
       "      <td>-</td>\n",
       "      <td>Haushalter, Jeff</td>\n",
       "      <td>647</td>\n",
       "      <td>-</td>\n",
       "      <td>M</td>\n",
       "      <td>47</td>\n",
       "      <td>195.82</td>\n",
       "      <td>3622</td>\n",
       "      <td>4815</td>\n",
       "      <td>NaN</td>\n",
       "      <td>...</td>\n",
       "      <td>5463</td>\n",
       "      <td>7.48</td>\n",
       "      <td>GA</td>\n",
       "      <td>-</td>\n",
       "      <td>-</td>\n",
       "      <td>-</td>\n",
       "      <td>-</td>\n",
       "      <td>USA</td>\n",
       "      <td>Atlanta</td>\n",
       "      <td>184.62</td>\n",
       "    </tr>\n",
       "  </tbody>\n",
       "</table>\n",
       "<p>5 rows × 21 columns</p>\n",
       "</div>"
      ],
      "text/plain": [
       "        10k                  name  division     25k gender  age  official  \\\n",
       "836   38.28  Moosbrugger, Michael      2701  100.75      M   32    194.87   \n",
       "1333  44.55          Thoman, Dave      2692  112.18      M   28    194.68   \n",
       "1682  44.07      Boden, Jeffrey G      3219       -      M   38    206.72   \n",
       "2968  42.37       Koeppe, Torsten       216  106.72      M   49    182.07   \n",
       "3189      -      Haushalter, Jeff       647       -      M   47    195.82   \n",
       "\n",
       "       bib  genderdiv  ctz  ... overall  pace  state     30k     5k   half  \\\n",
       "836    891       4672  NaN  ...    5252  7.43    NaN  124.67      -  83.70   \n",
       "1333  1487       4633  NaN  ...    5206  7.43     NY  136.08      -  94.65   \n",
       "1682  1905       6647  NaN  ...    8284  7.90     FL  140.97  21.47  96.22   \n",
       "2968  3385       2545  GER  ...    2700  6.95     MA       -  21.23  89.57   \n",
       "3189  3622       4815  NaN  ...    5463  7.48     GA       -      -      -   \n",
       "\n",
       "        20k country          city     40k  \n",
       "836   79.12     AUT      Dornbirn  181.07  \n",
       "1333  89.68     USA        Albany  184.47  \n",
       "1682  91.02     USA  Coral Gables  195.22  \n",
       "2968  84.90     USA       Andover  171.75  \n",
       "3189      -     USA       Atlanta  184.62  \n",
       "\n",
       "[5 rows x 21 columns]"
      ]
     },
     "execution_count": 539,
     "metadata": {},
     "output_type": "execute_result"
    }
   ],
   "source": [
    "boston.loc[(boston['10k'] == '-') | (boston['25k'] == '-') | (boston['35k'] == '-') | (boston['30k'] == '-') | \n",
    "           (boston['5k'] == '-') | (boston['20k'] == '-') | (boston['40k'] == '-') | (boston['overall'] == '-')].head()"
   ]
  },
  {
   "cell_type": "code",
   "execution_count": 540,
   "metadata": {},
   "outputs": [
    {
     "data": {
      "text/plain": [
       "297"
      ]
     },
     "execution_count": 540,
     "metadata": {},
     "output_type": "execute_result"
    }
   ],
   "source": [
    "len(boston.loc[(boston['10k'] == '-') | (boston['25k'] == '-') | (boston['35k'] == '-') | (boston['30k'] == '-') | \n",
    "               (boston['5k'] == '-') | (boston['20k'] == '-') | (boston['40k'] == '-') | (boston['official'] == '-')])"
   ]
  },
  {
   "cell_type": "code",
   "execution_count": 541,
   "metadata": {},
   "outputs": [
    {
     "data": {
      "text/plain": [
       "6"
      ]
     },
     "execution_count": 541,
     "metadata": {},
     "output_type": "execute_result"
    }
   ],
   "source": [
    "len(boston.loc[(boston['10k'] == '-') & (boston['25k'] == '-') & (boston['35k'] == '-') & (boston['30k'] == '-') | \n",
    "               (boston['5k'] == '-') & (boston['20k'] == '-') & (boston['40k'] == '-') & (boston['official'] == '-')])"
   ]
  },
  {
   "cell_type": "code",
   "execution_count": 542,
   "metadata": {},
   "outputs": [
    {
     "data": {
      "text/html": [
       "<div>\n",
       "<style scoped>\n",
       "    .dataframe tbody tr th:only-of-type {\n",
       "        vertical-align: middle;\n",
       "    }\n",
       "\n",
       "    .dataframe tbody tr th {\n",
       "        vertical-align: top;\n",
       "    }\n",
       "\n",
       "    .dataframe thead th {\n",
       "        text-align: right;\n",
       "    }\n",
       "</style>\n",
       "<table border=\"1\" class=\"dataframe\">\n",
       "  <thead>\n",
       "    <tr style=\"text-align: right;\">\n",
       "      <th></th>\n",
       "      <th>10k</th>\n",
       "      <th>name</th>\n",
       "      <th>division</th>\n",
       "      <th>25k</th>\n",
       "      <th>gender</th>\n",
       "      <th>age</th>\n",
       "      <th>official</th>\n",
       "      <th>bib</th>\n",
       "      <th>genderdiv</th>\n",
       "      <th>ctz</th>\n",
       "      <th>...</th>\n",
       "      <th>overall</th>\n",
       "      <th>pace</th>\n",
       "      <th>state</th>\n",
       "      <th>30k</th>\n",
       "      <th>5k</th>\n",
       "      <th>half</th>\n",
       "      <th>20k</th>\n",
       "      <th>country</th>\n",
       "      <th>city</th>\n",
       "      <th>40k</th>\n",
       "    </tr>\n",
       "  </thead>\n",
       "  <tbody>\n",
       "    <tr>\n",
       "      <th>9547</th>\n",
       "      <td>-</td>\n",
       "      <td>Gomes, Claudia</td>\n",
       "      <td>129</td>\n",
       "      <td>-</td>\n",
       "      <td>F</td>\n",
       "      <td>36</td>\n",
       "      <td>181.80</td>\n",
       "      <td>10932</td>\n",
       "      <td>153</td>\n",
       "      <td>NaN</td>\n",
       "      <td>...</td>\n",
       "      <td>2649</td>\n",
       "      <td>6.95</td>\n",
       "      <td>NaN</td>\n",
       "      <td>-</td>\n",
       "      <td>-</td>\n",
       "      <td>-</td>\n",
       "      <td>-</td>\n",
       "      <td>BRA</td>\n",
       "      <td>Sao Paulo</td>\n",
       "      <td>164.78</td>\n",
       "    </tr>\n",
       "    <tr>\n",
       "      <th>21240</th>\n",
       "      <td>-</td>\n",
       "      <td>Wittman, Donna L</td>\n",
       "      <td>203</td>\n",
       "      <td>-</td>\n",
       "      <td>F</td>\n",
       "      <td>59</td>\n",
       "      <td>246.90</td>\n",
       "      <td>24234</td>\n",
       "      <td>7725</td>\n",
       "      <td>NaN</td>\n",
       "      <td>...</td>\n",
       "      <td>19477</td>\n",
       "      <td>9.43</td>\n",
       "      <td>TN</td>\n",
       "      <td>-</td>\n",
       "      <td>-</td>\n",
       "      <td>-</td>\n",
       "      <td>-</td>\n",
       "      <td>USA</td>\n",
       "      <td>Nashville</td>\n",
       "      <td>233.30</td>\n",
       "    </tr>\n",
       "    <tr>\n",
       "      <th>22359</th>\n",
       "      <td>-</td>\n",
       "      <td>Kauffman, Jennifer L.</td>\n",
       "      <td>2270</td>\n",
       "      <td>-</td>\n",
       "      <td>F</td>\n",
       "      <td>42</td>\n",
       "      <td>365.20</td>\n",
       "      <td>25493</td>\n",
       "      <td>13884</td>\n",
       "      <td>NaN</td>\n",
       "      <td>...</td>\n",
       "      <td>31087</td>\n",
       "      <td>13.93</td>\n",
       "      <td>MA</td>\n",
       "      <td>-</td>\n",
       "      <td>66.35</td>\n",
       "      <td>-</td>\n",
       "      <td>-</td>\n",
       "      <td>USA</td>\n",
       "      <td>Quincy</td>\n",
       "      <td>-</td>\n",
       "    </tr>\n",
       "    <tr>\n",
       "      <th>28567</th>\n",
       "      <td>-</td>\n",
       "      <td>Safford, Elizabeth</td>\n",
       "      <td>6016</td>\n",
       "      <td>-</td>\n",
       "      <td>F</td>\n",
       "      <td>37</td>\n",
       "      <td>314.05</td>\n",
       "      <td>32119</td>\n",
       "      <td>12463</td>\n",
       "      <td>NaN</td>\n",
       "      <td>...</td>\n",
       "      <td>28411</td>\n",
       "      <td>11.98</td>\n",
       "      <td>MA</td>\n",
       "      <td>-</td>\n",
       "      <td>-</td>\n",
       "      <td>-</td>\n",
       "      <td>-</td>\n",
       "      <td>USA</td>\n",
       "      <td>Boston</td>\n",
       "      <td>301.63</td>\n",
       "    </tr>\n",
       "    <tr>\n",
       "      <th>29734</th>\n",
       "      <td>-</td>\n",
       "      <td>Murphy, Maura</td>\n",
       "      <td>3863</td>\n",
       "      <td>-</td>\n",
       "      <td>F</td>\n",
       "      <td>24</td>\n",
       "      <td>240.25</td>\n",
       "      <td>33391</td>\n",
       "      <td>6956</td>\n",
       "      <td>NaN</td>\n",
       "      <td>...</td>\n",
       "      <td>18145</td>\n",
       "      <td>9.17</td>\n",
       "      <td>MA</td>\n",
       "      <td>-</td>\n",
       "      <td>-</td>\n",
       "      <td>-</td>\n",
       "      <td>-</td>\n",
       "      <td>USA</td>\n",
       "      <td>Boston</td>\n",
       "      <td>226.73</td>\n",
       "    </tr>\n",
       "    <tr>\n",
       "      <th>30328</th>\n",
       "      <td>-</td>\n",
       "      <td>Harris, Betsy</td>\n",
       "      <td>596</td>\n",
       "      <td>-</td>\n",
       "      <td>F</td>\n",
       "      <td>56</td>\n",
       "      <td>297.15</td>\n",
       "      <td>34061</td>\n",
       "      <td>11730</td>\n",
       "      <td>NaN</td>\n",
       "      <td>...</td>\n",
       "      <td>26931</td>\n",
       "      <td>11.35</td>\n",
       "      <td>MA</td>\n",
       "      <td>-</td>\n",
       "      <td>-</td>\n",
       "      <td>-</td>\n",
       "      <td>-</td>\n",
       "      <td>USA</td>\n",
       "      <td>Holliston</td>\n",
       "      <td>280.22</td>\n",
       "    </tr>\n",
       "  </tbody>\n",
       "</table>\n",
       "<p>6 rows × 21 columns</p>\n",
       "</div>"
      ],
      "text/plain": [
       "      10k                   name  division 25k gender  age  official    bib  \\\n",
       "9547    -         Gomes, Claudia       129   -      F   36    181.80  10932   \n",
       "21240   -       Wittman, Donna L       203   -      F   59    246.90  24234   \n",
       "22359   -  Kauffman, Jennifer L.      2270   -      F   42    365.20  25493   \n",
       "28567   -     Safford, Elizabeth      6016   -      F   37    314.05  32119   \n",
       "29734   -          Murphy, Maura      3863   -      F   24    240.25  33391   \n",
       "30328   -          Harris, Betsy       596   -      F   56    297.15  34061   \n",
       "\n",
       "       genderdiv  ctz  ... overall   pace  state 30k     5k half 20k country  \\\n",
       "9547         153  NaN  ...    2649   6.95    NaN   -      -    -   -     BRA   \n",
       "21240       7725  NaN  ...   19477   9.43     TN   -      -    -   -     USA   \n",
       "22359      13884  NaN  ...   31087  13.93     MA   -  66.35    -   -     USA   \n",
       "28567      12463  NaN  ...   28411  11.98     MA   -      -    -   -     USA   \n",
       "29734       6956  NaN  ...   18145   9.17     MA   -      -    -   -     USA   \n",
       "30328      11730  NaN  ...   26931  11.35     MA   -      -    -   -     USA   \n",
       "\n",
       "            city     40k  \n",
       "9547   Sao Paulo  164.78  \n",
       "21240  Nashville  233.30  \n",
       "22359     Quincy       -  \n",
       "28567     Boston  301.63  \n",
       "29734     Boston  226.73  \n",
       "30328  Holliston  280.22  \n",
       "\n",
       "[6 rows x 21 columns]"
      ]
     },
     "execution_count": 542,
     "metadata": {},
     "output_type": "execute_result"
    }
   ],
   "source": [
    "boston.loc[(boston['10k'] == '-') & (boston['25k'] == '-') & (boston['35k'] == '-') & (boston['30k'] == '-') | \n",
    "               (boston['5k'] == '-') & (boston['20k'] == '-') & (boston['40k'] == '-') & (boston['official'] == '-')]"
   ]
  },
  {
   "cell_type": "code",
   "execution_count": 709,
   "metadata": {},
   "outputs": [],
   "source": [
    "# Replacing \"-\" with the average of each column\n",
    "missing = ['5k', '10k', '20k', '25k', '30k', '35k', '40k', 'half', 'official']\n",
    "for i in range(len(missing)):\n",
    "    boston[missing[i]] = boston[missing[i]].replace('-',np.mean(pd.to_numeric(boston[missing[i]], errors='coerce')))"
   ]
  },
  {
   "cell_type": "code",
   "execution_count": 609,
   "metadata": {},
   "outputs": [],
   "source": [
    "# Dropping off the categorical variables with a lof of unique values, and dropping off the 2 columns represnting the rank \n",
    "# among gender and age groups since we already have column 'overall' represnting the overal;l rank of the runners and a \n",
    "# column representing the gender and the age in the dataframe.\n",
    "\n",
    "boston = boston.drop(['ctz', 'name', 'country', 'bib', 'city', 'state', 'division', 'genderdiv'], axis=1)"
   ]
  },
  {
   "cell_type": "code",
   "execution_count": 610,
   "metadata": {},
   "outputs": [],
   "source": [
    "# change the gender column to binary where 0 representing females and 1 representing males\n",
    "boston.gender = boston.gender.map(lambda x: 0 if x is 'F' else 1)"
   ]
  },
  {
   "cell_type": "code",
   "execution_count": 710,
   "metadata": {},
   "outputs": [],
   "source": [
    "# change all column types to floats\n",
    "boston = boston.astype(float)"
   ]
  },
  {
   "cell_type": "markdown",
   "metadata": {},
   "source": [
    "# Missing Values"
   ]
  },
  {
   "cell_type": "code",
   "execution_count": 612,
   "metadata": {},
   "outputs": [
    {
     "data": {
      "text/html": [
       "<div>\n",
       "<style scoped>\n",
       "    .dataframe tbody tr th:only-of-type {\n",
       "        vertical-align: middle;\n",
       "    }\n",
       "\n",
       "    .dataframe tbody tr th {\n",
       "        vertical-align: top;\n",
       "    }\n",
       "\n",
       "    .dataframe thead th {\n",
       "        text-align: right;\n",
       "    }\n",
       "</style>\n",
       "<table border=\"1\" class=\"dataframe\">\n",
       "  <thead>\n",
       "    <tr style=\"text-align: right;\">\n",
       "      <th></th>\n",
       "      <th>Total</th>\n",
       "      <th>Percent</th>\n",
       "    </tr>\n",
       "  </thead>\n",
       "  <tbody>\n",
       "    <tr>\n",
       "      <th>40k</th>\n",
       "      <td>0</td>\n",
       "      <td>0.0</td>\n",
       "    </tr>\n",
       "    <tr>\n",
       "      <th>20k</th>\n",
       "      <td>0</td>\n",
       "      <td>0.0</td>\n",
       "    </tr>\n",
       "    <tr>\n",
       "      <th>half</th>\n",
       "      <td>0</td>\n",
       "      <td>0.0</td>\n",
       "    </tr>\n",
       "    <tr>\n",
       "      <th>5k</th>\n",
       "      <td>0</td>\n",
       "      <td>0.0</td>\n",
       "    </tr>\n",
       "    <tr>\n",
       "      <th>30k</th>\n",
       "      <td>0</td>\n",
       "      <td>0.0</td>\n",
       "    </tr>\n",
       "  </tbody>\n",
       "</table>\n",
       "</div>"
      ],
      "text/plain": [
       "      Total  Percent\n",
       "40k       0      0.0\n",
       "20k       0      0.0\n",
       "half      0      0.0\n",
       "5k        0      0.0\n",
       "30k       0      0.0"
      ]
     },
     "execution_count": 612,
     "metadata": {},
     "output_type": "execute_result"
    }
   ],
   "source": [
    "total_missing = boston.isnull().sum().sort_values(ascending=False)\n",
    "percent_missing = (boston.isnull().sum()/boston.isnull().count()).sort_values(ascending=False)\n",
    "missing_data = pd.concat([total_missing, percent_missing], axis=1, keys=['Total', 'Percent'])\n",
    "missing_data.head()"
   ]
  },
  {
   "cell_type": "markdown",
   "metadata": {},
   "source": [
    "No missing values"
   ]
  },
  {
   "cell_type": "markdown",
   "metadata": {},
   "source": [
    "## K-Means"
   ]
  },
  {
   "cell_type": "code",
   "execution_count": 615,
   "metadata": {},
   "outputs": [],
   "source": [
    "# Make sure the number of rows divides evenly into four samples.\n",
    "rows = boston.shape[0] - boston.shape[0] % 4\n",
    "boston = boston.iloc[:rows, :]\n",
    "\n",
    "# Break into a set of features and a variable for the known outcome.\n",
    "X = boston\n",
    "\n",
    "# Normalize X.\n",
    "\n",
    "X_norm = normalize(X)\n",
    "\n",
    "# Data frame to store features and predicted cluster memberships.\n",
    "ypred = pd.DataFrame()\n",
    "\n",
    "# Create the two-feature PCA for graphing purposes.\n",
    "pca = PCA(n_components=2)\n",
    "X_pca = pca.fit_transform(X_norm)\n",
    "\n",
    "# Split the data into four equally-sized samples. First we break it in half:\n",
    "X_half1, X_half2, X_pcahalf1, X_pcahalf2 = train_test_split(\n",
    "    X_norm,\n",
    "    X_pca,\n",
    "    test_size=0.5,\n",
    "    random_state=42)\n",
    "\n",
    "# Then we halve the halves.\n",
    "X1, X2, X_pca1, X_pca2 = train_test_split(\n",
    "    X_half1,\n",
    "    X_pcahalf1,\n",
    "    test_size=0.5,\n",
    "    random_state=42)\n",
    "X3, X4, X_pca3, X_pca4 = train_test_split(\n",
    "    X_half2,\n",
    "    X_pcahalf2,\n",
    "    test_size=0.5,\n",
    "    random_state=42)"
   ]
  },
  {
   "cell_type": "code",
   "execution_count": 616,
   "metadata": {},
   "outputs": [],
   "source": [
    "# Pass a list of tuples and a counter that increments each time we go\n",
    "# through the loop. The tuples are the data to be used by k-means,\n",
    "# and the PCA-derived features for graphing. We use k-means to fit a\n",
    "# model to the data, then store the predicted values and the two-feature\n",
    "# PCA solution in the data frame.\n",
    "for counter, data in enumerate([\n",
    "    (X1, X_pca1),\n",
    "    (X2, X_pca2),\n",
    "    (X3, X_pca3),\n",
    "    (X4, X_pca4)]):\n",
    "    \n",
    "    # Put the features into ypred.\n",
    "    ypred['pca_f1' + '_sample' + str(counter)] = data[1][:, 0]\n",
    "    ypred['pca_f2' + '_sample' + str(counter)] = data[1][:, 1]\n",
    "    \n",
    "    # Generate cluster predictions and store them for clusters 2 to 4.\n",
    "    for nclust in range(2, 5):\n",
    "        pred = KMeans(n_clusters=nclust, random_state=42).fit_predict(data[0])\n",
    "        ypred['clust' + str(nclust) + '_sample' + str(counter)] = pred"
   ]
  },
  {
   "cell_type": "code",
   "execution_count": 617,
   "metadata": {},
   "outputs": [
    {
     "data": {
      "image/png": "[encoded data removed]",
      "text/plain": [
       "<Figure size 432x288 with 4 Axes>"
      ]
     },
     "metadata": {},
     "output_type": "display_data"
    },
    {
     "name": "stdout",
     "output_type": "stream",
     "text": [
      "\n",
      "\n"
     ]
    },
    {
     "data": {
      "image/png": "[encoded data removed]",
      "text/plain": [
       "<Figure size 432x288 with 4 Axes>"
      ]
     },
     "metadata": {},
     "output_type": "display_data"
    },
    {
     "name": "stdout",
     "output_type": "stream",
     "text": [
      "\n",
      "\n"
     ]
    },
    {
     "data": {
      "image/png": "[encoded data removed]",
      "text/plain": [
       "<Figure size 432x288 with 4 Axes>"
      ]
     },
     "metadata": {},
     "output_type": "display_data"
    },
    {
     "name": "stdout",
     "output_type": "stream",
     "text": [
      "\n",
      "\n"
     ]
    }
   ],
   "source": [
    "# For each  number of clusters, plot the clusters using the\n",
    "# pca features for each sample.\n",
    "for cluster in range(2, 5):\n",
    "    \n",
    "    # Make a grid of subplots.\n",
    "    f, axarr = plt.subplots(2, 2)\n",
    "    \n",
    "    # Make a plot for each sample.\n",
    "    for i in range(4):\n",
    "        \n",
    "        # PCA-created features.\n",
    "        x_sub = ypred['pca_f1_sample{}'.format(i)]\n",
    "        y_sub = ypred['pca_f2_sample{}'.format(i)]\n",
    "        \n",
    "        # Cluster assignments.\n",
    "        c = ypred['clust{}_sample{}'.format(cluster, i)]\n",
    "        \n",
    "        # Assign the subplot to its place on the grid.\n",
    "        rows = int(np.floor(i / 2))\n",
    "        cols = i % 2\n",
    "        axarr[rows, cols].scatter(x_sub, y_sub, c=c)\n",
    "        axarr[rows, cols].set_title('sample {}'.format(i))\n",
    "        axarr[rows, cols].set_xlim([-.3, .3])\n",
    "        axarr[rows, cols].set_ylim([-.3, .3])\n",
    "    \n",
    "    # Space out the plots so that the headings don't overlap axis values.\n",
    "    plt.suptitle('{} Clusters'.format(cluster), fontsize=20)\n",
    "    plt.tight_layout()\n",
    "    plt.show()\n",
    "    print('\\n')"
   ]
  },
  {
   "cell_type": "code",
   "execution_count": 625,
   "metadata": {},
   "outputs": [],
   "source": [
    "# Initialize data frames\n",
    "ypred = pd.DataFrame()\n",
    "score = pd.DataFrame(columns=['cluster_pred','sil_score'])\n",
    "\n",
    "# Keep track of counts of the models and use data from the different folds\n",
    "for counter, data in enumerate([\n",
    "    (X1, X_pca1),\n",
    "    (X2, X_pca2),\n",
    "    (X3, X_pca3),\n",
    "    (X4, X_pca4)]):\n",
    "    \n",
    "    # Put the features into ypred.\n",
    "    ypred['pca_f1' + '_sample' + str(counter)] = data[1][:, 0]\n",
    "    ypred['pca_f2' + '_sample' + str(counter)] = data[1][:, 1]\n",
    "    \n",
    "    # Creating a list of possible number of clusters to test in kmeans.\n",
    "    for nclust in range(2, 5):\n",
    "       \n",
    "        # Instantiating and fit_predicting model to then add to data frame\n",
    "        kmeans = KMeans(n_clusters=nclust, random_state=42)\n",
    "        pred = kmeans.fit_predict(data[0])\n",
    "        ypred['clust' + str(nclust) + '_sample' + str(counter)] = pred\n",
    "        \n",
    "        # Calculating silhouette scores for the data and adding that to the shilouette score\n",
    "        labels = kmeans.labels_\n",
    "        sscore = metrics.silhouette_score(data[0], labels, metric='euclidean')\n",
    "        score = score.append({'cluster_pred':'clust' + str(nclust) + '_sample' + str(counter), \n",
    "                              'silhouette_score':sscore}, ignore_index=True)"
   ]
  },
  {
   "cell_type": "code",
   "execution_count": 626,
   "metadata": {},
   "outputs": [
    {
     "data": {
      "text/html": [
       "<div>\n",
       "<style scoped>\n",
       "    .dataframe tbody tr th:only-of-type {\n",
       "        vertical-align: middle;\n",
       "    }\n",
       "\n",
       "    .dataframe tbody tr th {\n",
       "        vertical-align: top;\n",
       "    }\n",
       "\n",
       "    .dataframe thead th {\n",
       "        text-align: right;\n",
       "    }\n",
       "</style>\n",
       "<table border=\"1\" class=\"dataframe\">\n",
       "  <thead>\n",
       "    <tr style=\"text-align: right;\">\n",
       "      <th></th>\n",
       "      <th>cluster_pred</th>\n",
       "      <th>sil_score</th>\n",
       "      <th>silhouette_score</th>\n",
       "    </tr>\n",
       "  </thead>\n",
       "  <tbody>\n",
       "    <tr>\n",
       "      <th>0</th>\n",
       "      <td>clust2_sample0</td>\n",
       "      <td>NaN</td>\n",
       "      <td>0.934362</td>\n",
       "    </tr>\n",
       "    <tr>\n",
       "      <th>3</th>\n",
       "      <td>clust2_sample1</td>\n",
       "      <td>NaN</td>\n",
       "      <td>0.931383</td>\n",
       "    </tr>\n",
       "    <tr>\n",
       "      <th>9</th>\n",
       "      <td>clust2_sample3</td>\n",
       "      <td>NaN</td>\n",
       "      <td>0.931211</td>\n",
       "    </tr>\n",
       "    <tr>\n",
       "      <th>6</th>\n",
       "      <td>clust2_sample2</td>\n",
       "      <td>NaN</td>\n",
       "      <td>0.929595</td>\n",
       "    </tr>\n",
       "    <tr>\n",
       "      <th>1</th>\n",
       "      <td>clust3_sample0</td>\n",
       "      <td>NaN</td>\n",
       "      <td>0.889983</td>\n",
       "    </tr>\n",
       "    <tr>\n",
       "      <th>7</th>\n",
       "      <td>clust3_sample2</td>\n",
       "      <td>NaN</td>\n",
       "      <td>0.879663</td>\n",
       "    </tr>\n",
       "    <tr>\n",
       "      <th>4</th>\n",
       "      <td>clust3_sample1</td>\n",
       "      <td>NaN</td>\n",
       "      <td>0.878574</td>\n",
       "    </tr>\n",
       "    <tr>\n",
       "      <th>10</th>\n",
       "      <td>clust3_sample3</td>\n",
       "      <td>NaN</td>\n",
       "      <td>0.874949</td>\n",
       "    </tr>\n",
       "    <tr>\n",
       "      <th>2</th>\n",
       "      <td>clust4_sample0</td>\n",
       "      <td>NaN</td>\n",
       "      <td>0.835711</td>\n",
       "    </tr>\n",
       "    <tr>\n",
       "      <th>8</th>\n",
       "      <td>clust4_sample2</td>\n",
       "      <td>NaN</td>\n",
       "      <td>0.828978</td>\n",
       "    </tr>\n",
       "    <tr>\n",
       "      <th>5</th>\n",
       "      <td>clust4_sample1</td>\n",
       "      <td>NaN</td>\n",
       "      <td>0.826940</td>\n",
       "    </tr>\n",
       "    <tr>\n",
       "      <th>11</th>\n",
       "      <td>clust4_sample3</td>\n",
       "      <td>NaN</td>\n",
       "      <td>0.822519</td>\n",
       "    </tr>\n",
       "  </tbody>\n",
       "</table>\n",
       "</div>"
      ],
      "text/plain": [
       "      cluster_pred sil_score  silhouette_score\n",
       "0   clust2_sample0       NaN          0.934362\n",
       "3   clust2_sample1       NaN          0.931383\n",
       "9   clust2_sample3       NaN          0.931211\n",
       "6   clust2_sample2       NaN          0.929595\n",
       "1   clust3_sample0       NaN          0.889983\n",
       "7   clust3_sample2       NaN          0.879663\n",
       "4   clust3_sample1       NaN          0.878574\n",
       "10  clust3_sample3       NaN          0.874949\n",
       "2   clust4_sample0       NaN          0.835711\n",
       "8   clust4_sample2       NaN          0.828978\n",
       "5   clust4_sample1       NaN          0.826940\n",
       "11  clust4_sample3       NaN          0.822519"
      ]
     },
     "execution_count": 626,
     "metadata": {},
     "output_type": "execute_result"
    }
   ],
   "source": [
    "# Sorting sihoilette scores\n",
    "score.sort_values(by='silhouette_score', ascending=False)"
   ]
  },
  {
   "cell_type": "markdown",
   "metadata": {},
   "source": [
    "2 clusters received the highest score"
   ]
  },
  {
   "cell_type": "code",
   "execution_count": 711,
   "metadata": {},
   "outputs": [
    {
     "name": "stdout",
     "output_type": "stream",
     "text": [
      "7996 7996\n",
      "7996 7996\n",
      "7996 7996\n",
      "7996 7996\n"
     ]
    }
   ],
   "source": [
    "# checking the number of rows at each sample adn check if they are equal\n",
    "print(len(X1), len(X_pca1))\n",
    "print(len(X2), len(X_pca2))\n",
    "print(len(X3), len(X_pca3))\n",
    "print(len(X4), len(X_pca4))"
   ]
  },
  {
   "cell_type": "markdown",
   "metadata": {},
   "source": [
    "## Mean-shift"
   ]
  },
  {
   "cell_type": "code",
   "execution_count": 621,
   "metadata": {},
   "outputs": [],
   "source": [
    "# Initialize new data frames\n",
    "ypred_ms = pd.DataFrame()\n",
    "score_ms = pd.DataFrame(columns=['cluster_pred','mean_shift', 'quantile'])\n",
    "\n",
    "# Keep track of counts of the models and use data from the different folds\n",
    "for counter, data in enumerate([X1, X2, X3, X4]):\n",
    "    # Creating a list of possible quantiles to test in mean shift.\n",
    "    for n in [0.1, 0.2, 0.3, 0.4]:\n",
    "        # Estimating number of clusters for data\n",
    "        bandwidth = estimate_bandwidth(data, quantile=n, n_samples=500)\n",
    "        # Ensuring all sets are the same lenght\n",
    "        data = data[:7996][:]\n",
    "        # Instantiating and fit_predicting model to then add to data frame\n",
    "        ms = MeanShift(bandwidth=bandwidth, bin_seeding=True)\n",
    "        pred = ms.fit_predict(data)\n",
    "        labels = ms.labels_\n",
    "        cntrs = len(np.unique(labels))\n",
    "        ypred_ms['clust' + str(cntrs) + '_sample' + str(counter)] = pred\n",
    "        # Calculating silhouette scores for the data and adding that to the shilouette score\n",
    "        sscore = metrics.silhouette_score(data, labels, metric='euclidean')\n",
    "        score_ms = score_ms.append({'cluster_pred':'clust' + str(cntrs) + '_sample' + str(counter), \n",
    "                              'silhouette_score':sscore, 'quantile':n}, ignore_index=True) "
   ]
  },
  {
   "cell_type": "code",
   "execution_count": 622,
   "metadata": {},
   "outputs": [
    {
     "data": {
      "text/html": [
       "<div>\n",
       "<style scoped>\n",
       "    .dataframe tbody tr th:only-of-type {\n",
       "        vertical-align: middle;\n",
       "    }\n",
       "\n",
       "    .dataframe tbody tr th {\n",
       "        vertical-align: top;\n",
       "    }\n",
       "\n",
       "    .dataframe thead th {\n",
       "        text-align: right;\n",
       "    }\n",
       "</style>\n",
       "<table border=\"1\" class=\"dataframe\">\n",
       "  <thead>\n",
       "    <tr style=\"text-align: right;\">\n",
       "      <th></th>\n",
       "      <th>cluster_pred</th>\n",
       "      <th>mean_shift</th>\n",
       "      <th>quantile</th>\n",
       "      <th>silhouette_score</th>\n",
       "    </tr>\n",
       "  </thead>\n",
       "  <tbody>\n",
       "    <tr>\n",
       "      <th>2</th>\n",
       "      <td>clust11_sample0</td>\n",
       "      <td>NaN</td>\n",
       "      <td>0.3</td>\n",
       "      <td>0.866717</td>\n",
       "    </tr>\n",
       "    <tr>\n",
       "      <th>11</th>\n",
       "      <td>clust14_sample2</td>\n",
       "      <td>NaN</td>\n",
       "      <td>0.4</td>\n",
       "      <td>0.862881</td>\n",
       "    </tr>\n",
       "    <tr>\n",
       "      <th>10</th>\n",
       "      <td>clust14_sample2</td>\n",
       "      <td>NaN</td>\n",
       "      <td>0.3</td>\n",
       "      <td>0.859212</td>\n",
       "    </tr>\n",
       "    <tr>\n",
       "      <th>6</th>\n",
       "      <td>clust20_sample1</td>\n",
       "      <td>NaN</td>\n",
       "      <td>0.3</td>\n",
       "      <td>0.852846</td>\n",
       "    </tr>\n",
       "    <tr>\n",
       "      <th>7</th>\n",
       "      <td>clust18_sample1</td>\n",
       "      <td>NaN</td>\n",
       "      <td>0.4</td>\n",
       "      <td>0.852039</td>\n",
       "    </tr>\n",
       "    <tr>\n",
       "      <th>15</th>\n",
       "      <td>clust12_sample3</td>\n",
       "      <td>NaN</td>\n",
       "      <td>0.4</td>\n",
       "      <td>0.849508</td>\n",
       "    </tr>\n",
       "    <tr>\n",
       "      <th>1</th>\n",
       "      <td>clust15_sample0</td>\n",
       "      <td>NaN</td>\n",
       "      <td>0.2</td>\n",
       "      <td>0.847314</td>\n",
       "    </tr>\n",
       "    <tr>\n",
       "      <th>14</th>\n",
       "      <td>clust10_sample3</td>\n",
       "      <td>NaN</td>\n",
       "      <td>0.3</td>\n",
       "      <td>0.844934</td>\n",
       "    </tr>\n",
       "    <tr>\n",
       "      <th>3</th>\n",
       "      <td>clust12_sample0</td>\n",
       "      <td>NaN</td>\n",
       "      <td>0.4</td>\n",
       "      <td>0.844391</td>\n",
       "    </tr>\n",
       "    <tr>\n",
       "      <th>8</th>\n",
       "      <td>clust14_sample2</td>\n",
       "      <td>NaN</td>\n",
       "      <td>0.1</td>\n",
       "      <td>0.842857</td>\n",
       "    </tr>\n",
       "    <tr>\n",
       "      <th>9</th>\n",
       "      <td>clust16_sample2</td>\n",
       "      <td>NaN</td>\n",
       "      <td>0.2</td>\n",
       "      <td>0.840406</td>\n",
       "    </tr>\n",
       "    <tr>\n",
       "      <th>5</th>\n",
       "      <td>clust16_sample1</td>\n",
       "      <td>NaN</td>\n",
       "      <td>0.2</td>\n",
       "      <td>0.832492</td>\n",
       "    </tr>\n",
       "    <tr>\n",
       "      <th>13</th>\n",
       "      <td>clust10_sample3</td>\n",
       "      <td>NaN</td>\n",
       "      <td>0.2</td>\n",
       "      <td>0.831656</td>\n",
       "    </tr>\n",
       "    <tr>\n",
       "      <th>0</th>\n",
       "      <td>clust14_sample0</td>\n",
       "      <td>NaN</td>\n",
       "      <td>0.1</td>\n",
       "      <td>0.828017</td>\n",
       "    </tr>\n",
       "    <tr>\n",
       "      <th>4</th>\n",
       "      <td>clust17_sample1</td>\n",
       "      <td>NaN</td>\n",
       "      <td>0.1</td>\n",
       "      <td>0.804612</td>\n",
       "    </tr>\n",
       "    <tr>\n",
       "      <th>12</th>\n",
       "      <td>clust30_sample3</td>\n",
       "      <td>NaN</td>\n",
       "      <td>0.1</td>\n",
       "      <td>0.780871</td>\n",
       "    </tr>\n",
       "  </tbody>\n",
       "</table>\n",
       "</div>"
      ],
      "text/plain": [
       "       cluster_pred  mean_shift  quantile  silhouette_score\n",
       "2   clust11_sample0         NaN       0.3          0.866717\n",
       "11  clust14_sample2         NaN       0.4          0.862881\n",
       "10  clust14_sample2         NaN       0.3          0.859212\n",
       "6   clust20_sample1         NaN       0.3          0.852846\n",
       "7   clust18_sample1         NaN       0.4          0.852039\n",
       "15  clust12_sample3         NaN       0.4          0.849508\n",
       "1   clust15_sample0         NaN       0.2          0.847314\n",
       "14  clust10_sample3         NaN       0.3          0.844934\n",
       "3   clust12_sample0         NaN       0.4          0.844391\n",
       "8   clust14_sample2         NaN       0.1          0.842857\n",
       "9   clust16_sample2         NaN       0.2          0.840406\n",
       "5   clust16_sample1         NaN       0.2          0.832492\n",
       "13  clust10_sample3         NaN       0.2          0.831656\n",
       "0   clust14_sample0         NaN       0.1          0.828017\n",
       "4   clust17_sample1         NaN       0.1          0.804612\n",
       "12  clust30_sample3         NaN       0.1          0.780871"
      ]
     },
     "execution_count": 622,
     "metadata": {},
     "output_type": "execute_result"
    }
   ],
   "source": [
    "score_ms.sort_values(by='silhouette_score', ascending=False)"
   ]
  },
  {
   "cell_type": "markdown",
   "metadata": {},
   "source": [
    "Not bad scores but it is still less than k Means"
   ]
  },
  {
   "cell_type": "markdown",
   "metadata": {},
   "source": [
    "## Spectral Clustring"
   ]
  },
  {
   "cell_type": "code",
   "execution_count": 623,
   "metadata": {},
   "outputs": [],
   "source": [
    "# Initialize data frames\n",
    "ypred_sc = pd.DataFrame()\n",
    "score_sc = pd.DataFrame(columns=['cluster_pred','silhouette_score'])\n",
    "\n",
    "# Keep track of counts of the models and use data from the different folds\n",
    "for counter, data in enumerate([\n",
    "    (X1, X_pca1),\n",
    "    (X2, X_pca2),\n",
    "    (X3, X_pca3),\n",
    "    (X4, X_pca4)]):\n",
    "    \n",
    "    # Put the features into ypred.\n",
    "    ypred_sc['pca_f1' + '_sample' + str(counter)] = data[1][:, 0]\n",
    "    ypred_sc['pca_f2' + '_sample' + str(counter)] = data[1][:, 1]\n",
    "    \n",
    "    # Creating a list of possible number of clusters to test in kmeans.\n",
    "    for nclust in range(2, 5):\n",
    "        # Instantiating and fit_predicting model to then add to data frame\n",
    "        sc = SpectralClustering(n_clusters=nclust)\n",
    "        pred = sc.fit_predict(data[0])\n",
    "        ypred_sc['clust' + str(nclust) + '_sample' + str(counter)] = pred\n",
    "        # Calculating silhouette scores for the data and adding that to the shilouette score\n",
    "        labels = sc.labels_\n",
    "        sscore_sc = metrics.silhouette_score(data[0], labels, metric='euclidean')\n",
    "        score_sc = score_sc.append({'cluster_pred':'clust' + str(nclust) + '_sample' + str(counter), \n",
    "                              'silhouette_score':sscore_sc}, ignore_index=True)"
   ]
  },
  {
   "cell_type": "code",
   "execution_count": 714,
   "metadata": {},
   "outputs": [
    {
     "data": {
      "text/html": [
       "<div>\n",
       "<style scoped>\n",
       "    .dataframe tbody tr th:only-of-type {\n",
       "        vertical-align: middle;\n",
       "    }\n",
       "\n",
       "    .dataframe tbody tr th {\n",
       "        vertical-align: top;\n",
       "    }\n",
       "\n",
       "    .dataframe thead th {\n",
       "        text-align: right;\n",
       "    }\n",
       "</style>\n",
       "<table border=\"1\" class=\"dataframe\">\n",
       "  <thead>\n",
       "    <tr style=\"text-align: right;\">\n",
       "      <th></th>\n",
       "      <th>cluster_pred</th>\n",
       "      <th>silhouette_score</th>\n",
       "    </tr>\n",
       "  </thead>\n",
       "  <tbody>\n",
       "    <tr>\n",
       "      <th>0</th>\n",
       "      <td>clust2_sample0</td>\n",
       "      <td>0.941304</td>\n",
       "    </tr>\n",
       "    <tr>\n",
       "      <th>6</th>\n",
       "      <td>clust2_sample2</td>\n",
       "      <td>0.940318</td>\n",
       "    </tr>\n",
       "    <tr>\n",
       "      <th>3</th>\n",
       "      <td>clust2_sample1</td>\n",
       "      <td>0.939516</td>\n",
       "    </tr>\n",
       "    <tr>\n",
       "      <th>9</th>\n",
       "      <td>clust2_sample3</td>\n",
       "      <td>0.938652</td>\n",
       "    </tr>\n",
       "    <tr>\n",
       "      <th>1</th>\n",
       "      <td>clust3_sample0</td>\n",
       "      <td>0.906874</td>\n",
       "    </tr>\n",
       "    <tr>\n",
       "      <th>4</th>\n",
       "      <td>clust3_sample1</td>\n",
       "      <td>0.906597</td>\n",
       "    </tr>\n",
       "    <tr>\n",
       "      <th>7</th>\n",
       "      <td>clust3_sample2</td>\n",
       "      <td>0.903025</td>\n",
       "    </tr>\n",
       "    <tr>\n",
       "      <th>10</th>\n",
       "      <td>clust3_sample3</td>\n",
       "      <td>0.901509</td>\n",
       "    </tr>\n",
       "    <tr>\n",
       "      <th>8</th>\n",
       "      <td>clust4_sample2</td>\n",
       "      <td>0.838512</td>\n",
       "    </tr>\n",
       "    <tr>\n",
       "      <th>2</th>\n",
       "      <td>clust4_sample0</td>\n",
       "      <td>0.833644</td>\n",
       "    </tr>\n",
       "    <tr>\n",
       "      <th>11</th>\n",
       "      <td>clust4_sample3</td>\n",
       "      <td>0.830642</td>\n",
       "    </tr>\n",
       "    <tr>\n",
       "      <th>5</th>\n",
       "      <td>clust4_sample1</td>\n",
       "      <td>0.828304</td>\n",
       "    </tr>\n",
       "  </tbody>\n",
       "</table>\n",
       "</div>"
      ],
      "text/plain": [
       "      cluster_pred  silhouette_score\n",
       "0   clust2_sample0          0.941304\n",
       "6   clust2_sample2          0.940318\n",
       "3   clust2_sample1          0.939516\n",
       "9   clust2_sample3          0.938652\n",
       "1   clust3_sample0          0.906874\n",
       "4   clust3_sample1          0.906597\n",
       "7   clust3_sample2          0.903025\n",
       "10  clust3_sample3          0.901509\n",
       "8   clust4_sample2          0.838512\n",
       "2   clust4_sample0          0.833644\n",
       "11  clust4_sample3          0.830642\n",
       "5   clust4_sample1          0.828304"
      ]
     },
     "execution_count": 714,
     "metadata": {},
     "output_type": "execute_result"
    }
   ],
   "source": [
    "score_sc.sort_values(by='silhouette_score', ascending=False)"
   ]
  },
  {
   "cell_type": "markdown",
   "metadata": {},
   "source": [
    "Again 2 clusters is the one received the highest score. these results are slightly better than k Means"
   ]
  },
  {
   "cell_type": "markdown",
   "metadata": {},
   "source": [
    "## Affinity Propagation"
   ]
  },
  {
   "cell_type": "code",
   "execution_count": 627,
   "metadata": {},
   "outputs": [],
   "source": [
    "# Initialize data frames\n",
    "ypred = pd.DataFrame()\n",
    "score_af = pd.DataFrame(columns=['cluster_pred','AF'])\n",
    "\n",
    "# Keep track of counts of the models and use data from the different folds\n",
    "for counter, data in enumerate([X1, X2, X3, X4]):\n",
    "    # Ensuring all sets are the same lenght\n",
    "    data = data[:7996][:]\n",
    "    # Instantiating and fit_predicting model to then add to data frame\n",
    "    af = AffinityPropagation().fit(data)\n",
    "    cluster_centers_indices = af.cluster_centers_indices_\n",
    "    n_clusters_ = len(cluster_centers_indices)\n",
    "    #pred = af.fit_predict(data)\n",
    "    #ypred['clust' + str(nclust) + '_sample' + str(counter)] = pred\n",
    "    # Calculating silhouette scores for the data and adding that to the shilouette score\n",
    "    labels = af.labels_\n",
    "    sscore_af = metrics.silhouette_score(data, labels, metric='euclidean')\n",
    "    score_af = score_af.append({'cluster_pred':'clust' + str(n_clusters_) + '_sample' + str(counter), \n",
    "                              'AF':sscore_af}, ignore_index=True)"
   ]
  },
  {
   "cell_type": "code",
   "execution_count": 628,
   "metadata": {},
   "outputs": [
    {
     "data": {
      "text/html": [
       "<div>\n",
       "<style scoped>\n",
       "    .dataframe tbody tr th:only-of-type {\n",
       "        vertical-align: middle;\n",
       "    }\n",
       "\n",
       "    .dataframe tbody tr th {\n",
       "        vertical-align: top;\n",
       "    }\n",
       "\n",
       "    .dataframe thead th {\n",
       "        text-align: right;\n",
       "    }\n",
       "</style>\n",
       "<table border=\"1\" class=\"dataframe\">\n",
       "  <thead>\n",
       "    <tr style=\"text-align: right;\">\n",
       "      <th></th>\n",
       "      <th>cluster_pred</th>\n",
       "      <th>AF</th>\n",
       "    </tr>\n",
       "  </thead>\n",
       "  <tbody>\n",
       "    <tr>\n",
       "      <th>0</th>\n",
       "      <td>clust645_sample0</td>\n",
       "      <td>0.203513</td>\n",
       "    </tr>\n",
       "    <tr>\n",
       "      <th>3</th>\n",
       "      <td>clust640_sample3</td>\n",
       "      <td>0.193641</td>\n",
       "    </tr>\n",
       "    <tr>\n",
       "      <th>1</th>\n",
       "      <td>clust2008_sample1</td>\n",
       "      <td>0.159304</td>\n",
       "    </tr>\n",
       "    <tr>\n",
       "      <th>2</th>\n",
       "      <td>clust2859_sample2</td>\n",
       "      <td>0.097139</td>\n",
       "    </tr>\n",
       "  </tbody>\n",
       "</table>\n",
       "</div>"
      ],
      "text/plain": [
       "        cluster_pred        AF\n",
       "0   clust645_sample0  0.203513\n",
       "3   clust640_sample3  0.193641\n",
       "1  clust2008_sample1  0.159304\n",
       "2  clust2859_sample2  0.097139"
      ]
     },
     "execution_count": 628,
     "metadata": {},
     "output_type": "execute_result"
    }
   ],
   "source": [
    "score_af.sort_values(by='AF', ascending=False)"
   ]
  },
  {
   "cell_type": "markdown",
   "metadata": {},
   "source": [
    "Very low scores and high number of clusters. Not a good solution"
   ]
  },
  {
   "cell_type": "markdown",
   "metadata": {},
   "source": [
    "## Selected Model"
   ]
  },
  {
   "cell_type": "markdown",
   "metadata": {},
   "source": [
    "The 2 cluster solution has the highest Silhouette scores. The Spectral Clustring model generated the highest Silhouette score with a value at 0.94, but the computation of this model takes long time and it is not far better than K Means (0.93). Therefore, the runners of the Boston marathon can be classified into 2 groups uaing k Means."
   ]
  },
  {
   "cell_type": "code",
   "execution_count": 721,
   "metadata": {},
   "outputs": [],
   "source": [
    "# Calculate predicted values.\n",
    "y_pred = KMeans(n_clusters=2, random_state=42).fit_predict(X_norm)"
   ]
  },
  {
   "cell_type": "code",
   "execution_count": 718,
   "metadata": {},
   "outputs": [],
   "source": [
    "y = pd.DataFrame(y_pred)\n",
    "y.columns = ['cluster']"
   ]
  },
  {
   "cell_type": "code",
   "execution_count": null,
   "metadata": {},
   "outputs": [],
   "source": [
    "combined = X.join(y, how='inner')\n",
    "combined.head()"
   ]
  },
  {
   "cell_type": "code",
   "execution_count": 690,
   "metadata": {},
   "outputs": [],
   "source": [
    "cluster_0 = combined.loc[(combined['cluster'] == 0)]\n",
    "cluster_1 = combined.loc[(combined['cluster'] == 1)]"
   ]
  },
  {
   "cell_type": "code",
   "execution_count": 719,
   "metadata": {},
   "outputs": [
    {
     "data": {
      "text/plain": [
       "31280"
      ]
     },
     "execution_count": 719,
     "metadata": {},
     "output_type": "execute_result"
    }
   ],
   "source": [
    "len(cluster_0)"
   ]
  },
  {
   "cell_type": "code",
   "execution_count": 692,
   "metadata": {},
   "outputs": [
    {
     "data": {
      "text/plain": [
       "704"
      ]
     },
     "execution_count": 692,
     "metadata": {},
     "output_type": "execute_result"
    }
   ],
   "source": [
    "len(cluster_1)"
   ]
  },
  {
   "cell_type": "markdown",
   "metadata": {},
   "source": [
    "It looks like the model generated one large group representing most of the runners in the marathon, and a small group of runners who are different from the majority. Below, we will discover what is special about this small group?"
   ]
  },
  {
   "cell_type": "markdown",
   "metadata": {},
   "source": [
    "### Age"
   ]
  },
  {
   "cell_type": "code",
   "execution_count": 693,
   "metadata": {},
   "outputs": [
    {
     "data": {
      "text/plain": [
       "count    31984.000000\n",
       "mean        42.407079\n",
       "std         11.316496\n",
       "min         18.000000\n",
       "25%         33.000000\n",
       "50%         42.000000\n",
       "75%         50.000000\n",
       "max         81.000000\n",
       "Name: age, dtype: float64"
      ]
     },
     "execution_count": 693,
     "metadata": {},
     "output_type": "execute_result"
    }
   ],
   "source": [
    "combined['age'].describe()"
   ]
  },
  {
   "cell_type": "code",
   "execution_count": 695,
   "metadata": {},
   "outputs": [
    {
     "data": {
      "text/plain": [
       "<matplotlib.lines.Line2D at 0x281a652d780>"
      ]
     },
     "execution_count": 695,
     "metadata": {},
     "output_type": "execute_result"
    },
    {
     "data": {
      "image/png": "[encoded data removed]",
      "text/plain": [
       "<Figure size 720x576 with 1 Axes>"
      ]
     },
     "metadata": {},
     "output_type": "display_data"
    }
   ],
   "source": [
    "plt.figure(figsize=(10,8))\n",
    "sns.distplot(combined['age'])\n",
    "plt.axvline(33, 0 ,1, color = 'red', linestyle = 'dashed')\n",
    "plt.axvline(50, 0 ,1, color = 'red', linestyle = 'dashed')\n",
    "plt.axvline(42, 0 ,1, color = 'green', linestyle = 'dashed')"
   ]
  },
  {
   "cell_type": "markdown",
   "metadata": {},
   "source": [
    "The average age of the marathon participants is 42 years old. The interquartile range is between 33 and 50 years old, which means approximatley 50% of the runners are between 33 and 50 years old. The number of runners younger than 33 years old are almost equal to the runners with age more than 50 years old. This indicate that most of the participant in the marathon are middle age people. It looks like younger people are less intereted in the marathon and looking for competition with more challenges.\n",
    "\n",
    "The ditribution of runners age is very close to be symetric "
   ]
  },
  {
   "cell_type": "code",
   "execution_count": 700,
   "metadata": {},
   "outputs": [],
   "source": [
    "male = combined.loc[(combined['gender'] == 1)]\n",
    "female = combined.loc[(combined['gender'] == 0)]"
   ]
  },
  {
   "cell_type": "code",
   "execution_count": 698,
   "metadata": {},
   "outputs": [
    {
     "data": {
      "text/plain": [
       "count    17617.000000\n",
       "mean        44.540898\n",
       "std         11.497929\n",
       "min         18.000000\n",
       "25%         36.000000\n",
       "50%         45.000000\n",
       "75%         53.000000\n",
       "max         81.000000\n",
       "Name: age, dtype: float64"
      ]
     },
     "execution_count": 698,
     "metadata": {},
     "output_type": "execute_result"
    }
   ],
   "source": [
    "male['age'].describe()"
   ]
  },
  {
   "cell_type": "code",
   "execution_count": 699,
   "metadata": {},
   "outputs": [
    {
     "data": {
      "text/plain": [
       "count    14367.000000\n",
       "mean        39.790562\n",
       "std         10.515042\n",
       "min         18.000000\n",
       "25%         31.000000\n",
       "50%         40.000000\n",
       "75%         47.000000\n",
       "max         81.000000\n",
       "Name: age, dtype: float64"
      ]
     },
     "execution_count": 699,
     "metadata": {},
     "output_type": "execute_result"
    }
   ],
   "source": [
    "female['age'].describe()"
   ]
  },
  {
   "cell_type": "code",
   "execution_count": 697,
   "metadata": {},
   "outputs": [
    {
     "data": {
      "text/plain": [
       "<matplotlib.axes._subplots.AxesSubplot at 0x281b23d3588>"
      ]
     },
     "execution_count": 697,
     "metadata": {},
     "output_type": "execute_result"
    },
    {
     "data": {
      "image/png": "[encoded data removed]",
      "text/plain": [
       "<Figure size 720x360 with 1 Axes>"
      ]
     },
     "metadata": {},
     "output_type": "display_data"
    }
   ],
   "source": [
    "plt.figure(figsize = (10,5))\n",
    "sns.distplot(male.age, color = 'lightblue', hist = False, label=\"Male\")\n",
    "sns.distplot(female.age, color = 'pink', hist = False, label=\"Female\") "
   ]
  },
  {
   "cell_type": "markdown",
   "metadata": {},
   "source": [
    "The percentage of young female participants in the marathon to the total female participants are higher to the same raio for males. This indicates that young females are more interested in the marathon compare to the young males, and old males are participating more than old females"
   ]
  },
  {
   "cell_type": "code",
   "execution_count": 666,
   "metadata": {},
   "outputs": [
    {
     "data": {
      "text/plain": [
       "count    31280.000000\n",
       "mean        42.631010\n",
       "std         11.288229\n",
       "min         18.000000\n",
       "25%         34.000000\n",
       "50%         43.000000\n",
       "75%         51.000000\n",
       "max         81.000000\n",
       "Name: age, dtype: float64"
      ]
     },
     "execution_count": 666,
     "metadata": {},
     "output_type": "execute_result"
    }
   ],
   "source": [
    "cluster_0['age'].describe()"
   ]
  },
  {
   "cell_type": "code",
   "execution_count": 667,
   "metadata": {},
   "outputs": [
    {
     "data": {
      "text/plain": [
       "count    704.000000\n",
       "mean      32.457386\n",
       "std        7.436858\n",
       "min       18.000000\n",
       "25%       27.000000\n",
       "50%       31.000000\n",
       "75%       37.000000\n",
       "max       59.000000\n",
       "Name: age, dtype: float64"
      ]
     },
     "execution_count": 667,
     "metadata": {},
     "output_type": "execute_result"
    }
   ],
   "source": [
    "cluster_1['age'].describe()"
   ]
  },
  {
   "cell_type": "code",
   "execution_count": 703,
   "metadata": {},
   "outputs": [
    {
     "data": {
      "text/plain": [
       "Text(0.5, 1.0, 'Cluster 1')"
      ]
     },
     "execution_count": 703,
     "metadata": {},
     "output_type": "execute_result"
    },
    {
     "data": {
      "image/png": "[encoded data removed]",
      "text/plain": [
       "<Figure size 1080x576 with 2 Axes>"
      ]
     },
     "metadata": {},
     "output_type": "display_data"
    }
   ],
   "source": [
    "plt.figure(figsize=(15,8))\n",
    "plt.subplot(1, 2, 1)\n",
    "sns.distplot(cluster_0['age'], label=\"Cluster_0\", color = 'green')\n",
    "plt.title(\"Cluster 0\")\n",
    "\n",
    "plt.subplot(1, 2, 2)\n",
    "sns.distplot(cluster_1['age'], label=\"Cluster_1\", color = 'red')\n",
    "plt.title(\"Cluster 1\")"
   ]
  },
  {
   "cell_type": "markdown",
   "metadata": {},
   "source": [
    "the small group runners are younger in average (32 years) compare to the big group (43 years). The older runner in the small group has an age of 59. teh small group distribution is skewed to the right, which means that most of the runners are young withy few relatively old runners outliers"
   ]
  },
  {
   "cell_type": "markdown",
   "metadata": {},
   "source": [
    "### Gender"
   ]
  },
  {
   "cell_type": "code",
   "execution_count": 673,
   "metadata": {},
   "outputs": [
    {
     "data": {
      "text/plain": [
       "count    31984.000000\n",
       "mean         0.550807\n",
       "std          0.497420\n",
       "min          0.000000\n",
       "25%          0.000000\n",
       "50%          1.000000\n",
       "75%          1.000000\n",
       "max          1.000000\n",
       "Name: gender, dtype: float64"
      ]
     },
     "execution_count": 673,
     "metadata": {},
     "output_type": "execute_result"
    }
   ],
   "source": [
    "combined['gender'].describe()"
   ]
  },
  {
   "cell_type": "code",
   "execution_count": 669,
   "metadata": {},
   "outputs": [
    {
     "data": {
      "text/plain": [
       "<matplotlib.axes._subplots.AxesSubplot at 0x281a26ccb38>"
      ]
     },
     "execution_count": 669,
     "metadata": {},
     "output_type": "execute_result"
    },
    {
     "data": {
      "image/png": "[encoded data removed]",
      "text/plain": [
       "<Figure size 576x360 with 1 Axes>"
      ]
     },
     "metadata": {},
     "output_type": "display_data"
    }
   ],
   "source": [
    "plt.figure(figsize=(8,5))\n",
    "sns.countplot(combined['gender'])"
   ]
  },
  {
   "cell_type": "markdown",
   "metadata": {},
   "source": [
    "Aproximatley 55% of the runners are male."
   ]
  },
  {
   "cell_type": "code",
   "execution_count": 674,
   "metadata": {},
   "outputs": [
    {
     "data": {
      "text/plain": [
       "count    31280.000000\n",
       "mean         0.542231\n",
       "std          0.498221\n",
       "min          0.000000\n",
       "25%          0.000000\n",
       "50%          1.000000\n",
       "75%          1.000000\n",
       "max          1.000000\n",
       "Name: gender, dtype: float64"
      ]
     },
     "execution_count": 674,
     "metadata": {},
     "output_type": "execute_result"
    }
   ],
   "source": [
    "cluster_0['gender'].describe()"
   ]
  },
  {
   "cell_type": "code",
   "execution_count": 675,
   "metadata": {},
   "outputs": [
    {
     "data": {
      "text/plain": [
       "count    704.000000\n",
       "mean       0.931818\n",
       "std        0.252237\n",
       "min        0.000000\n",
       "25%        1.000000\n",
       "50%        1.000000\n",
       "75%        1.000000\n",
       "max        1.000000\n",
       "Name: gender, dtype: float64"
      ]
     },
     "execution_count": 675,
     "metadata": {},
     "output_type": "execute_result"
    }
   ],
   "source": [
    "cluster_1['gender'].describe()"
   ]
  },
  {
   "cell_type": "code",
   "execution_count": 672,
   "metadata": {},
   "outputs": [
    {
     "data": {
      "text/plain": [
       "Text(0.5, 1.0, 'Cluster 1')"
      ]
     },
     "execution_count": 672,
     "metadata": {},
     "output_type": "execute_result"
    },
    {
     "data": {
      "image/png": "[encoded data removed]",
      "text/plain": [
       "<Figure size 1080x360 with 2 Axes>"
      ]
     },
     "metadata": {},
     "output_type": "display_data"
    }
   ],
   "source": [
    "plt.figure(figsize=(15,5))\n",
    "plt.subplot(1, 2, 1)\n",
    "sns.countplot(cluster_0['gender'], label=\"Cluster_0\")\n",
    "plt.title(\"Cluster 0\")\n",
    "\n",
    "plt.subplot(1, 2, 2)\n",
    "sns.countplot(cluster_1['gender'], label=\"Cluster_1\")\n",
    "plt.title(\"Cluster 1\")\n"
   ]
  },
  {
   "cell_type": "markdown",
   "metadata": {},
   "source": [
    "The small group is dominated by males (93%), while the big group is balanced between genders, males represent 54% of the big group runners"
   ]
  },
  {
   "cell_type": "markdown",
   "metadata": {},
   "source": [
    "### Official Finish Time"
   ]
  },
  {
   "cell_type": "code",
   "execution_count": 678,
   "metadata": {},
   "outputs": [
    {
     "data": {
      "text/plain": [
       "count    31984.000000\n",
       "mean       242.997314\n",
       "std         52.300431\n",
       "min         80.600000\n",
       "25%        205.527500\n",
       "50%        232.370000\n",
       "75%        273.235000\n",
       "max        538.880000\n",
       "Name: official, dtype: float64"
      ]
     },
     "execution_count": 678,
     "metadata": {},
     "output_type": "execute_result"
    }
   ],
   "source": [
    "combined['official'].describe()"
   ]
  },
  {
   "cell_type": "code",
   "execution_count": 704,
   "metadata": {},
   "outputs": [
    {
     "data": {
      "text/plain": [
       "<matplotlib.lines.Line2D at 0x281b76243c8>"
      ]
     },
     "execution_count": 704,
     "metadata": {},
     "output_type": "execute_result"
    },
    {
     "data": {
      "image/png": "[encoded data removed]",
      "text/plain": [
       "<Figure size 720x576 with 1 Axes>"
      ]
     },
     "metadata": {},
     "output_type": "display_data"
    }
   ],
   "source": [
    "plt.figure(figsize=(10,8))\n",
    "sns.distplot(combined['official'])\n",
    "plt.axvline(205, 0 ,1, color = 'red', linestyle = 'dashed')\n",
    "plt.axvline(273, 0 ,1, color = 'red', linestyle = 'dashed')\n",
    "plt.axvline(253, 0 ,1, color = 'green', linestyle = 'dashed')"
   ]
  },
  {
   "cell_type": "markdown",
   "metadata": {},
   "source": [
    "In average, the finish time of the runners in the marathon is 243 minutes. The distribution of runners finish time is skewed to the right, which means there is more outliers finishing the marathon late than outliers finishing it early."
   ]
  },
  {
   "cell_type": "code",
   "execution_count": 706,
   "metadata": {},
   "outputs": [
    {
     "data": {
      "text/plain": [
       "<matplotlib.axes._subplots.AxesSubplot at 0x281b66cbef0>"
      ]
     },
     "execution_count": 706,
     "metadata": {},
     "output_type": "execute_result"
    },
    {
     "data": {
      "image/png": "[encoded data removed]",
      "text/plain": [
       "<Figure size 720x360 with 1 Axes>"
      ]
     },
     "metadata": {},
     "output_type": "display_data"
    }
   ],
   "source": [
    "plt.figure(figsize = (10,5))\n",
    "sns.distplot(male.official, color = 'lightblue', hist = False, label=\"Male\")\n",
    "sns.distplot(female.official, color = 'pink', hist = False, label=\"Female\") "
   ]
  },
  {
   "cell_type": "markdown",
   "metadata": {},
   "source": [
    "It looks like the percentage of males who finish the marathon earlier to the total male runners is higher to the same ratio for females. It looks like in average males are perofrming better in the marathon than females."
   ]
  },
  {
   "cell_type": "code",
   "execution_count": 679,
   "metadata": {},
   "outputs": [
    {
     "data": {
      "text/plain": [
       "count    31280.000000\n",
       "mean       245.004510\n",
       "std         51.063304\n",
       "min        165.800000\n",
       "25%        207.320000\n",
       "50%        233.600000\n",
       "75%        274.630000\n",
       "max        538.880000\n",
       "Name: official, dtype: float64"
      ]
     },
     "execution_count": 679,
     "metadata": {},
     "output_type": "execute_result"
    }
   ],
   "source": [
    "cluster_0['official'].describe()"
   ]
  },
  {
   "cell_type": "code",
   "execution_count": 680,
   "metadata": {},
   "outputs": [
    {
     "data": {
      "text/plain": [
       "count    704.000000\n",
       "mean     153.813977\n",
       "std       16.868825\n",
       "min       80.600000\n",
       "25%      152.622500\n",
       "50%      159.125000\n",
       "75%      163.205000\n",
       "max      191.330000\n",
       "Name: official, dtype: float64"
      ]
     },
     "execution_count": 680,
     "metadata": {},
     "output_type": "execute_result"
    }
   ],
   "source": [
    "cluster_1['official'].describe()"
   ]
  },
  {
   "cell_type": "code",
   "execution_count": 684,
   "metadata": {},
   "outputs": [
    {
     "data": {
      "text/plain": [
       "Text(0.5, 1.0, 'Cluster 1')"
      ]
     },
     "execution_count": 684,
     "metadata": {},
     "output_type": "execute_result"
    },
    {
     "data": {
      "image/png": "[encoded data removed]",
      "text/plain": [
       "<Figure size 1080x720 with 2 Axes>"
      ]
     },
     "metadata": {},
     "output_type": "display_data"
    }
   ],
   "source": [
    "plt.figure(figsize=(15,10))\n",
    "plt.subplot(1, 2, 1)\n",
    "sns.distplot(cluster_0['official'], label=\"Cluster_0\", color = 'green')\n",
    "plt.title(\"Cluster 0\")\n",
    "\n",
    "plt.subplot(1, 2, 2)\n",
    "sns.distplot(cluster_1['official'], label=\"Cluster_1\", color = 'red')\n",
    "plt.title(\"Cluster 1\")\n"
   ]
  },
  {
   "cell_type": "markdown",
   "metadata": {},
   "source": [
    "The small group runners finish the marathon faster (average finish time = 154 minutes) than the big group (average finish time = 245 minutes). it is a gap of more than 1 hour and a half in average between the 2 groups."
   ]
  },
  {
   "cell_type": "markdown",
   "metadata": {},
   "source": [
    "## Conculsion"
   ]
  },
  {
   "cell_type": "markdown",
   "metadata": {},
   "source": [
    "The runners in the marathon are divided into 2 groups.one of the groups is big group and representing 31,280 runners (98% of the runners), while the other group is small and representing 704 runners (2% of the runners).\n",
    "\n",
    "The small group is dominated by males (93%), younger (average age = 32 years old), and faster (they finish the race faster by more than 1 hour and 30 minutes in average compare to the other group). This small group represents the faster runners which most proberly the winner is going be one of them."
   ]
  }
 ],
 "metadata": {
  "kernelspec": {
   "display_name": "Python 3",
   "language": "python",
   "name": "python3"
  }
 },
 "nbformat": 4,
 "nbformat_minor": 2
}
